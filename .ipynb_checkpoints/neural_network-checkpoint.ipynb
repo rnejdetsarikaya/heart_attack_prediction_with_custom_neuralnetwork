{
 "cells": [
  {
   "cell_type": "code",
   "execution_count": 1,
   "metadata": {},
   "outputs": [],
   "source": [
    "import math\n",
    "import random\n",
    "import matplotlib.pyplot as plt\n",
    "from setuptools.command.test import test"
   ]
  },
  {
   "cell_type": "code",
   "execution_count": 2,
   "metadata": {},
   "outputs": [],
   "source": [
    "import pandas as pd\n",
    "import numpy as np\n",
    "\n",
    "from sklearn.model_selection import train_test_split\n",
    "from sklearn.decomposition import PCA\n",
    "from sklearn.preprocessing import StandardScaler\n",
    "from sklearn.metrics import confusion_matrix"
   ]
  },
  {
   "cell_type": "code",
   "execution_count": 3,
   "metadata": {},
   "outputs": [],
   "source": [
    "def rand(a, b):\n",
    "    return (b-a)*random.random() + a"
   ]
  },
  {
   "cell_type": "code",
   "execution_count": 4,
   "metadata": {},
   "outputs": [],
   "source": [
    "def makeMatrix(I, J, fill=0.0):\n",
    "    m = []\n",
    "    for i in range(I):\n",
    "        m.append([fill]*J)\n",
    "    return m"
   ]
  },
  {
   "cell_type": "code",
   "execution_count": 5,
   "metadata": {},
   "outputs": [],
   "source": [
    "def sigmoid(x):\n",
    "    #return math.tanh(x)\n",
    "    return 1 / (1 + math.exp(-x))"
   ]
  },
  {
   "cell_type": "code",
   "execution_count": 6,
   "metadata": {},
   "outputs": [],
   "source": [
    "def dsigmoid(y):\n",
    "    #return 1.0 - y ** 2\n",
    "    return (1-y)*y"
   ]
  },
  {
   "cell_type": "code",
   "execution_count": 7,
   "metadata": {},
   "outputs": [],
   "source": [
    "def plot(inputs, outputs, actual):\n",
    "    fig = plt.figure()\n",
    "    ax1 = fig.add_subplot(111)\n",
    "    ax1.plot(inputs, actual, 'b-')\n",
    "    ax1.plot(inputs, outputs, 'r.')\n",
    "    plt.draw()"
   ]
  },
  {
   "cell_type": "code",
   "execution_count": 8,
   "metadata": {},
   "outputs": [],
   "source": [
    "def convert_result(prediction):\n",
    "    result = []\n",
    "    for value in prediction:\n",
    "        if(value[0] > 0.8):\n",
    "            result.append(1)\n",
    "        else:\n",
    "            result.append(0)\n",
    "    return result"
   ]
  },
  {
   "cell_type": "code",
   "execution_count": 9,
   "metadata": {},
   "outputs": [],
   "source": [
    "def read_data():\n",
    "    data = pd.read_csv('heart2.csv', sep=\",\")\n",
    "\n",
    "    data.sex = data.sex.astype('category')\n",
    "    data.cp = data.cp.astype('category')\n",
    "    data.fbs = data.fbs.astype('category')\n",
    "    data.restecg = data.restecg.astype('category')\n",
    "    data.exang = data.exang.astype('category')\n",
    "    data.ca = data.ca.astype('category')\n",
    "    data.slope = data.slope.astype('category')\n",
    "    data.thal = data.thal.astype('category')\n",
    "    \n",
    "    return data"
   ]
  },
  {
   "cell_type": "code",
   "execution_count": 10,
   "metadata": {},
   "outputs": [],
   "source": [
    "class NN:\n",
    "    def __init__(self, ni, nh, no, regression = False):\n",
    "\n",
    "        self.regression = regression\n",
    "\n",
    "        #Number of input, hidden and output nodes.\n",
    "        self.ni = ni  + 1 # +1 for bias node\n",
    "        self.nh = nh  + 1 # +1 for bias node\n",
    "        self.no = no\n",
    "\n",
    "        # activations for nodes\n",
    "        self.ai = [1.0]*self.ni\n",
    "        self.ah = [1.0]*self.nh\n",
    "        self.ao = [1.0]*self.no\n",
    "\n",
    "        # create weights\n",
    "        self.wi = makeMatrix(self.ni, self.nh)\n",
    "        self.wo = makeMatrix(self.nh, self.no)\n",
    "\n",
    "        # set them to random vaules\n",
    "        for i in range(self.ni):\n",
    "            for j in range(self.nh):\n",
    "                self.wi[i][j] = rand(-1, 1)\n",
    "        for j in range(self.nh):\n",
    "            for k in range(self.no):\n",
    "                self.wo[j][k] = rand(-1, 1)\n",
    "\n",
    "        # last change in weights for momentum\n",
    "        self.ci = makeMatrix(self.ni, self.nh)\n",
    "        self.co = makeMatrix(self.nh, self.no)\n",
    "\n",
    "\n",
    "    def forwardPropagate(self, inputs):\n",
    "\n",
    "        if len(inputs) != self.ni-1:\n",
    "            print(len(inputs), \" -- \",self.ni-1)\n",
    "            raise(ValueError,  'wrong number of inputs')\n",
    "\n",
    "        # input activations\n",
    "        for i in range(self.ni - 1):\n",
    "            self.ai[i] = inputs[i]\n",
    "\n",
    "        # hidden activations\n",
    "        for j in range(self.nh - 1):\n",
    "            total = 0.0\n",
    "            for i in range(self.ni):\n",
    "                total += self.ai[i] * self.wi[i][j]\n",
    "            self.ah[j] = sigmoid(total)\n",
    "\n",
    "        # output activations\n",
    "        for k in range(self.no):\n",
    "            total = 0.0\n",
    "            for j in range(self.nh):\n",
    "                total += self.ah[j] * self.wo[j][k]\n",
    "            self.ao[k] = total\n",
    "            if not self.regression:\n",
    "                self.ao[k] = sigmoid(total)\n",
    "\n",
    "\n",
    "        return self.ao[:]\n",
    "\n",
    "\n",
    "    def backPropagate(self, targets, N, M):\n",
    "        if len(targets) != self.no:\n",
    "            raise(ValueError, 'wrong number of target values')\n",
    "        # calculate error terms for output\n",
    "\n",
    "\n",
    "        output_deltas = [0.0] * self.no\n",
    "\n",
    "\n",
    "        for k in range(self.no):\n",
    "\n",
    "            output_deltas[k] = targets[k] - self.ao[k]\n",
    "            if not self.regression:\n",
    "                output_deltas[k] = dsigmoid(self.ao[k]) * output_deltas[k]\n",
    "\n",
    "\n",
    "        # calculate error terms for hidden\n",
    "        hidden_deltas = [0.0] * self.nh\n",
    "        for j in range(self.nh):\n",
    "            error = 0.0\n",
    "            for k in range(self.no):\n",
    "                error += output_deltas[k]*self.wo[j][k]\n",
    "            hidden_deltas[j] = dsigmoid(self.ah[j]) * error\n",
    "\n",
    "        # update output weights\n",
    "        for j in range(self.nh):\n",
    "            for k in range(self.no):\n",
    "                change = output_deltas[k]*self.ah[j]\n",
    "                self.wo[j][k] = self.wo[j][k] + N*change + M*self.co[j][k]\n",
    "                self.co[j][k] = change\n",
    "\n",
    "        # update input weights\n",
    "        for i in range(self.ni):\n",
    "            for j in range(self.nh):\n",
    "                change = hidden_deltas[j]*self.ai[i]\n",
    "                self.wi[i][j] = self.wi[i][j] + N*change + M*self.ci[i][j]\n",
    "                self.ci[i][j] = change\n",
    "        # calculate error\n",
    "        error = 0.0\n",
    "        for k in range(len(targets)):\n",
    "            error += 0.5*((targets[k]-self.ao[k])**2)\n",
    "        return error\n",
    "\n",
    "\n",
    "    def predict(self, test_x):\n",
    "        prediction = []\n",
    "        for p in test_x:\n",
    "            prediction.append(self.forwardPropagate(p))\n",
    "        \n",
    "        result = convert_result(prediction)\n",
    "\n",
    "        return result\n",
    "\n",
    "\n",
    "    def weights(self):\n",
    "        print('Input weights:')\n",
    "        for i in range(self.ni):\n",
    "            print(self.wi[i])\n",
    "        print('Output weights:')\n",
    "        for j in range(self.nh):\n",
    "            print(self.wo[j])\n",
    "\n",
    "    def train(self, train_x, train_y, iterations=1000, N=0.5, M=0.1, verbose = False):\n",
    "        \"\"\"Train the neural network.\n",
    "\n",
    "        N is the learning rate.\n",
    "        M is the momentum factor.\n",
    "        \"\"\"\n",
    "        err = []\n",
    "        for i in range(iterations):\n",
    "            error = 0.0\n",
    "            for x,y in zip(train_x,train_y):\n",
    "                self.forwardPropagate(x)\n",
    "                tmp = self.backPropagate(y, N, M)\n",
    "                error += tmp\n",
    "            if i % 50 == 0:\n",
    "                print (i,'error %-14f' % error)\n",
    "                err.append((i,error))\n",
    "        \n",
    "        return err;"
   ]
  },
  {
   "cell_type": "code",
   "execution_count": 11,
   "metadata": {},
   "outputs": [],
   "source": [
    "def demoClassification(train_x,train_y):\n",
    "    # create a network with two input, two hidden, and one output nodes\n",
    "    model = NN(22,19 ,1, regression = False)\n",
    "\n",
    "    # train it with some patterns then test it.\n",
    "    err = model.train(train_x,train_y, 40000, 0.001,0.001)\n",
    "    \n",
    "    return model, err"
   ]
  },
  {
   "cell_type": "code",
   "execution_count": null,
   "metadata": {},
   "outputs": [],
   "source": [
    "x = read_data()"
   ]
  },
  {
   "cell_type": "code",
   "execution_count": null,
   "metadata": {},
   "outputs": [],
   "source": [
    "y = x['target']\n",
    "del x['target']"
   ]
  },
  {
   "cell_type": "code",
   "execution_count": null,
   "metadata": {},
   "outputs": [],
   "source": [
    "y = pd.DataFrame(y)\n",
    "x = pd.get_dummies(x, drop_first=True)"
   ]
  },
  {
   "cell_type": "code",
   "execution_count": null,
   "metadata": {},
   "outputs": [],
   "source": [
    "data_scaled = StandardScaler().fit_transform(x)\n",
    "data_scaled = pd.DataFrame(data=data_scaled, columns=x.columns)"
   ]
  },
  {
   "cell_type": "code",
   "execution_count": null,
   "metadata": {},
   "outputs": [],
   "source": [
    "x_train, x_test, y_train, y_test = train_test_split(data_scaled, y, test_size=0.20, random_state=42)"
   ]
  },
  {
   "cell_type": "code",
   "execution_count": null,
   "metadata": {},
   "outputs": [],
   "source": [
    "train_x = x_train.values.tolist()\n",
    "train_y = y_train.values.tolist()"
   ]
  },
  {
   "cell_type": "code",
   "execution_count": null,
   "metadata": {},
   "outputs": [],
   "source": [
    "test_x = x_test.values.tolist()\n",
    "test_y = y_test.values.tolist()"
   ]
  },
  {
   "cell_type": "code",
   "execution_count": null,
   "metadata": {},
   "outputs": [],
   "source": [
    "model, err = demoClassification(train_x,train_y)"
   ]
  },
  {
   "cell_type": "code",
   "execution_count": null,
   "metadata": {},
   "outputs": [],
   "source": [
    "error = []\n",
    "_iter = []"
   ]
  },
  {
   "cell_type": "code",
   "execution_count": null,
   "metadata": {},
   "outputs": [],
   "source": [
    "for i,e in err:\n",
    "    error.append(e)\n",
    "    _iter.append(i)"
   ]
  },
  {
   "cell_type": "code",
   "execution_count": null,
   "metadata": {},
   "outputs": [],
   "source": [
    "plt.plot(_iter[:800],error[:800])"
   ]
  },
  {
   "cell_type": "code",
   "execution_count": null,
   "metadata": {},
   "outputs": [],
   "source": [
    "result = model.predict(test_x)"
   ]
  },
  {
   "cell_type": "code",
   "execution_count": null,
   "metadata": {},
   "outputs": [],
   "source": [
    "c_matrix = confusion_matrix(test_y, result)"
   ]
  },
  {
   "cell_type": "code",
   "execution_count": null,
   "metadata": {},
   "outputs": [],
   "source": [
    "tn, fp, fn, tp = c_matrix.ravel()"
   ]
  },
  {
   "cell_type": "code",
   "execution_count": null,
   "metadata": {},
   "outputs": [],
   "source": [
    "precision = tp / (tp + fp)\n",
    "recall = tp / (tp + fn)"
   ]
  },
  {
   "cell_type": "code",
   "execution_count": null,
   "metadata": {},
   "outputs": [],
   "source": [
    "precision, recall"
   ]
  },
  {
   "cell_type": "code",
   "execution_count": null,
   "metadata": {},
   "outputs": [],
   "source": [
    "2 * precision * recall / (precision + recall)"
   ]
  },
  {
   "cell_type": "code",
   "execution_count": null,
   "metadata": {},
   "outputs": [],
   "source": [
    "pca = PCA(n_components=2)\n",
    "pca.fit(x)\n",
    "x_pca = pca.transform(x)\n",
    "print(\"variance ratio:\", pca.explained_variance_ratio_)\n",
    "\n",
    "print(\"sum:\", sum(pca.explained_variance_ratio_))\n",
    "x[\"p1\"] = x_pca[:, 0]\n",
    "x[\"p2\"] = x_pca[:, 1]\n",
    "\n",
    "color = [\"red\", \"green\"]\n",
    "\n",
    "for each in range(2):\n",
    "    plt.scatter(x.p1[y.target == each], x.p2[y.target == each], color=color[each], label=y.target, alpha=0.5)\n",
    "\n",
    "plt.xlabel(\"p1\")\n",
    "plt.ylabel(\"p2\")\n",
    "plt.show()"
   ]
  },
  {
   "cell_type": "code",
   "execution_count": null,
   "metadata": {},
   "outputs": [],
   "source": []
  }
 ],
 "metadata": {
  "kernelspec": {
   "display_name": "Python 3",
   "language": "python",
   "name": "python3"
  },
  "language_info": {
   "codemirror_mode": {
    "name": "ipython",
    "version": 3
   },
   "file_extension": ".py",
   "mimetype": "text/x-python",
   "name": "python",
   "nbconvert_exporter": "python",
   "pygments_lexer": "ipython3",
   "version": "3.7.1"
  }
 },
 "nbformat": 4,
 "nbformat_minor": 2
}
